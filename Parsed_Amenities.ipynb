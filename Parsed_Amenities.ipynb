{
 "metadata": {
  "language_info": {
   "codemirror_mode": {
    "name": "ipython",
    "version": 3
   },
   "file_extension": ".py",
   "mimetype": "text/x-python",
   "name": "python",
   "nbconvert_exporter": "python",
   "pygments_lexer": "ipython3",
   "version": "3.8.3-final"
  },
  "orig_nbformat": 2,
  "kernelspec": {
   "name": "pythondata",
   "display_name": "PythonData",
   "language": "python"
  }
 },
 "nbformat": 4,
 "nbformat_minor": 2,
 "cells": [
  {
   "cell_type": "code",
   "execution_count": 1,
   "metadata": {},
   "outputs": [],
   "source": [
    "# Import Dependencies\n",
    "import pandas as pd"
   ]
  },
  {
   "cell_type": "code",
   "execution_count": 2,
   "metadata": {},
   "outputs": [
    {
     "output_type": "execute_result",
     "data": {
      "text/plain": [
       "      id                         listing_url       scrape_id last_scraped  \\\n",
       "0   6422   https://www.airbnb.com/rooms/6422  20190117134323   2019-01-17   \n",
       "1  20847  https://www.airbnb.com/rooms/20847  20190117134323   2019-01-17   \n",
       "2  25341  https://www.airbnb.com/rooms/25341  20190117134323   2019-01-17   \n",
       "3  25613  https://www.airbnb.com/rooms/25613  20190117134323   2019-01-17   \n",
       "4  37306  https://www.airbnb.com/rooms/37306  20190117134323   2019-01-17   \n",
       "\n",
       "                                               name  \\\n",
       "0                                   Nashville Charm   \n",
       "1                       East Nashville Retro Ranch!   \n",
       "2                  East Nashville Retro Ranch BR #2   \n",
       "3                  108 Year Old East Nashville Home   \n",
       "4  8th South Private Room&Bath - Female(s)/F+M Only   \n",
       "\n",
       "                                             summary  \\\n",
       "0  NOTE: For April and early May, must book at le...   \n",
       "1  Retro Ranch is nestled in the eclectic East si...   \n",
       "2  Retro Ranch is nestled in the eclectic East si...   \n",
       "3  Lovely large Craftsman home. Art, architecture...   \n",
       "4  Renting again after taking a 1.5 year break. P...   \n",
       "\n",
       "                                               space  \\\n",
       "0  1920 historic bungalow backs up to city park w...   \n",
       "1  -Retro Ranch is nestled in a quiet part of Sou...   \n",
       "2  -Retro Ranch is nestled in a quiet part of Sou...   \n",
       "3  Our gorgeous 3,000 square foot, architecturall...   \n",
       "4  Thank you for considering my home for your Nas...   \n",
       "\n",
       "                                         description experiences_offered  \\\n",
       "0  NOTE: For April and early May, must book at le...                none   \n",
       "1  Retro Ranch is nestled in the eclectic East si...                none   \n",
       "2  Retro Ranch is nestled in the eclectic East si...                none   \n",
       "3  Lovely large Craftsman home. Art, architecture...                none   \n",
       "4  Renting again after taking a 1.5 year break. P...                none   \n",
       "\n",
       "                               neighborhood_overview  ... instant_bookable  \\\n",
       "0  Historic East Nashville is home to many new an...  ...                f   \n",
       "1  Many local favorites, including live music, th...  ...                f   \n",
       "2  Many local favorites, including live music, th...  ...                f   \n",
       "3  We live in a walkable neighborhood with sidewa...  ...                t   \n",
       "4  I'm in Woodland-in-Waverly, the oldest survivi...  ...                f   \n",
       "\n",
       "  is_business_travel_ready          cancellation_policy  \\\n",
       "0                        f  strict_14_with_grace_period   \n",
       "1                        f  strict_14_with_grace_period   \n",
       "2                        f  strict_14_with_grace_period   \n",
       "3                        f                     moderate   \n",
       "4                        f  strict_14_with_grace_period   \n",
       "\n",
       "  require_guest_profile_picture require_guest_phone_verification  \\\n",
       "0                             f                                f   \n",
       "1                             t                                t   \n",
       "2                             t                                t   \n",
       "3                             t                                t   \n",
       "4                             t                                t   \n",
       "\n",
       "   calculated_host_listings_count  \\\n",
       "0                               1   \n",
       "1                               2   \n",
       "2                               2   \n",
       "3                               1   \n",
       "4                               1   \n",
       "\n",
       "   calculated_host_listings_count_entire_homes  \\\n",
       "0                                            0   \n",
       "1                                            0   \n",
       "2                                            0   \n",
       "3                                            0   \n",
       "4                                            0   \n",
       "\n",
       "  calculated_host_listings_count_private_rooms  \\\n",
       "0                                            1   \n",
       "1                                            2   \n",
       "2                                            2   \n",
       "3                                            1   \n",
       "4                                            1   \n",
       "\n",
       "   calculated_host_listings_count_shared_rooms  reviews_per_month  \n",
       "0                                            0               4.74  \n",
       "1                                            0               1.28  \n",
       "2                                            0               0.97  \n",
       "3                                            0               4.27  \n",
       "4                                            0               0.97  \n",
       "\n",
       "[5 rows x 106 columns]"
      ],
      "text/html": "<div>\n<style scoped>\n    .dataframe tbody tr th:only-of-type {\n        vertical-align: middle;\n    }\n\n    .dataframe tbody tr th {\n        vertical-align: top;\n    }\n\n    .dataframe thead th {\n        text-align: right;\n    }\n</style>\n<table border=\"1\" class=\"dataframe\">\n  <thead>\n    <tr style=\"text-align: right;\">\n      <th></th>\n      <th>id</th>\n      <th>listing_url</th>\n      <th>scrape_id</th>\n      <th>last_scraped</th>\n      <th>name</th>\n      <th>summary</th>\n      <th>space</th>\n      <th>description</th>\n      <th>experiences_offered</th>\n      <th>neighborhood_overview</th>\n      <th>...</th>\n      <th>instant_bookable</th>\n      <th>is_business_travel_ready</th>\n      <th>cancellation_policy</th>\n      <th>require_guest_profile_picture</th>\n      <th>require_guest_phone_verification</th>\n      <th>calculated_host_listings_count</th>\n      <th>calculated_host_listings_count_entire_homes</th>\n      <th>calculated_host_listings_count_private_rooms</th>\n      <th>calculated_host_listings_count_shared_rooms</th>\n      <th>reviews_per_month</th>\n    </tr>\n  </thead>\n  <tbody>\n    <tr>\n      <th>0</th>\n      <td>6422</td>\n      <td>https://www.airbnb.com/rooms/6422</td>\n      <td>20190117134323</td>\n      <td>2019-01-17</td>\n      <td>Nashville Charm</td>\n      <td>NOTE: For April and early May, must book at le...</td>\n      <td>1920 historic bungalow backs up to city park w...</td>\n      <td>NOTE: For April and early May, must book at le...</td>\n      <td>none</td>\n      <td>Historic East Nashville is home to many new an...</td>\n      <td>...</td>\n      <td>f</td>\n      <td>f</td>\n      <td>strict_14_with_grace_period</td>\n      <td>f</td>\n      <td>f</td>\n      <td>1</td>\n      <td>0</td>\n      <td>1</td>\n      <td>0</td>\n      <td>4.74</td>\n    </tr>\n    <tr>\n      <th>1</th>\n      <td>20847</td>\n      <td>https://www.airbnb.com/rooms/20847</td>\n      <td>20190117134323</td>\n      <td>2019-01-17</td>\n      <td>East Nashville Retro Ranch!</td>\n      <td>Retro Ranch is nestled in the eclectic East si...</td>\n      <td>-Retro Ranch is nestled in a quiet part of Sou...</td>\n      <td>Retro Ranch is nestled in the eclectic East si...</td>\n      <td>none</td>\n      <td>Many local favorites, including live music, th...</td>\n      <td>...</td>\n      <td>f</td>\n      <td>f</td>\n      <td>strict_14_with_grace_period</td>\n      <td>t</td>\n      <td>t</td>\n      <td>2</td>\n      <td>0</td>\n      <td>2</td>\n      <td>0</td>\n      <td>1.28</td>\n    </tr>\n    <tr>\n      <th>2</th>\n      <td>25341</td>\n      <td>https://www.airbnb.com/rooms/25341</td>\n      <td>20190117134323</td>\n      <td>2019-01-17</td>\n      <td>East Nashville Retro Ranch BR #2</td>\n      <td>Retro Ranch is nestled in the eclectic East si...</td>\n      <td>-Retro Ranch is nestled in a quiet part of Sou...</td>\n      <td>Retro Ranch is nestled in the eclectic East si...</td>\n      <td>none</td>\n      <td>Many local favorites, including live music, th...</td>\n      <td>...</td>\n      <td>f</td>\n      <td>f</td>\n      <td>strict_14_with_grace_period</td>\n      <td>t</td>\n      <td>t</td>\n      <td>2</td>\n      <td>0</td>\n      <td>2</td>\n      <td>0</td>\n      <td>0.97</td>\n    </tr>\n    <tr>\n      <th>3</th>\n      <td>25613</td>\n      <td>https://www.airbnb.com/rooms/25613</td>\n      <td>20190117134323</td>\n      <td>2019-01-17</td>\n      <td>108 Year Old East Nashville Home</td>\n      <td>Lovely large Craftsman home. Art, architecture...</td>\n      <td>Our gorgeous 3,000 square foot, architecturall...</td>\n      <td>Lovely large Craftsman home. Art, architecture...</td>\n      <td>none</td>\n      <td>We live in a walkable neighborhood with sidewa...</td>\n      <td>...</td>\n      <td>t</td>\n      <td>f</td>\n      <td>moderate</td>\n      <td>t</td>\n      <td>t</td>\n      <td>1</td>\n      <td>0</td>\n      <td>1</td>\n      <td>0</td>\n      <td>4.27</td>\n    </tr>\n    <tr>\n      <th>4</th>\n      <td>37306</td>\n      <td>https://www.airbnb.com/rooms/37306</td>\n      <td>20190117134323</td>\n      <td>2019-01-17</td>\n      <td>8th South Private Room&amp;Bath - Female(s)/F+M Only</td>\n      <td>Renting again after taking a 1.5 year break. P...</td>\n      <td>Thank you for considering my home for your Nas...</td>\n      <td>Renting again after taking a 1.5 year break. P...</td>\n      <td>none</td>\n      <td>I'm in Woodland-in-Waverly, the oldest survivi...</td>\n      <td>...</td>\n      <td>f</td>\n      <td>f</td>\n      <td>strict_14_with_grace_period</td>\n      <td>t</td>\n      <td>t</td>\n      <td>1</td>\n      <td>0</td>\n      <td>1</td>\n      <td>0</td>\n      <td>0.97</td>\n    </tr>\n  </tbody>\n</table>\n<p>5 rows × 106 columns</p>\n</div>"
     },
     "metadata": {},
     "execution_count": 2
    }
   ],
   "source": [
    "# Load data file\n",
    "listings_full_df = pd.read_csv('Resources/listings_full.csv')\n",
    "listings_full_df.head()"
   ]
  },
  {
   "cell_type": "code",
   "execution_count": 3,
   "metadata": {},
   "outputs": [
    {
     "output_type": "execute_result",
     "data": {
      "text/plain": [
       "      id                                          amenities\n",
       "0   6422  {TV,Internet,Wifi,\"Air conditioning\",Kitchen,\"...\n",
       "1  20847  {TV,\"Cable TV\",Wifi,\"Air conditioning\",Kitchen...\n",
       "2  25341  {TV,\"Cable TV\",Wifi,\"Air conditioning\",Kitchen...\n",
       "3  25613  {TV,Internet,Wifi,\"Air conditioning\",Kitchen,\"...\n",
       "4  37306  {TV,Wifi,\"Air conditioning\",Kitchen,\"Pets live..."
      ],
      "text/html": "<div>\n<style scoped>\n    .dataframe tbody tr th:only-of-type {\n        vertical-align: middle;\n    }\n\n    .dataframe tbody tr th {\n        vertical-align: top;\n    }\n\n    .dataframe thead th {\n        text-align: right;\n    }\n</style>\n<table border=\"1\" class=\"dataframe\">\n  <thead>\n    <tr style=\"text-align: right;\">\n      <th></th>\n      <th>id</th>\n      <th>amenities</th>\n    </tr>\n  </thead>\n  <tbody>\n    <tr>\n      <th>0</th>\n      <td>6422</td>\n      <td>{TV,Internet,Wifi,\"Air conditioning\",Kitchen,\"...</td>\n    </tr>\n    <tr>\n      <th>1</th>\n      <td>20847</td>\n      <td>{TV,\"Cable TV\",Wifi,\"Air conditioning\",Kitchen...</td>\n    </tr>\n    <tr>\n      <th>2</th>\n      <td>25341</td>\n      <td>{TV,\"Cable TV\",Wifi,\"Air conditioning\",Kitchen...</td>\n    </tr>\n    <tr>\n      <th>3</th>\n      <td>25613</td>\n      <td>{TV,Internet,Wifi,\"Air conditioning\",Kitchen,\"...</td>\n    </tr>\n    <tr>\n      <th>4</th>\n      <td>37306</td>\n      <td>{TV,Wifi,\"Air conditioning\",Kitchen,\"Pets live...</td>\n    </tr>\n  </tbody>\n</table>\n</div>"
     },
     "metadata": {},
     "execution_count": 3
    }
   ],
   "source": [
    "# Create a datafram of id and amenities to parse.\n",
    "amenities_df = listings_full_df[['id', 'amenities']]\n",
    "amenities_df.head()"
   ]
  },
  {
   "cell_type": "code",
   "execution_count": 4,
   "metadata": {},
   "outputs": [],
   "source": [
    "# iterate over each row, parse the amenities string and assign 1 for amenities listed and 0 for amenities not listed in each row.\n",
    "for index, row in amenities_df.iterrows():\n",
    "    for amenity in row['amenities'].split(','):\n",
    "        amenities_df.loc[index, amenity] = 1\n",
    "\n",
    "amenities_df.fillna(0, inplace=True)"
   ]
  },
  {
   "cell_type": "code",
   "execution_count": 5,
   "metadata": {},
   "outputs": [
    {
     "output_type": "execute_result",
     "data": {
      "text/plain": [
       "      id                                          amenities   tv  internet  \\\n",
       "0   6422  {TV,Internet,Wifi,\"Air conditioning\",Kitchen,\"...  1.0       1.0   \n",
       "1  20847  {TV,\"Cable TV\",Wifi,\"Air conditioning\",Kitchen...  1.0       0.0   \n",
       "2  25341  {TV,\"Cable TV\",Wifi,\"Air conditioning\",Kitchen...  1.0       0.0   \n",
       "3  25613  {TV,Internet,Wifi,\"Air conditioning\",Kitchen,\"...  1.0       1.0   \n",
       "4  37306  {TV,Wifi,\"Air conditioning\",Kitchen,\"Pets live...  1.0       0.0   \n",
       "\n",
       "   wifi  air_conditioning  kitchen  free_parking_on_premises  \\\n",
       "0   1.0               1.0      1.0                       1.0   \n",
       "1   1.0               1.0      1.0                       1.0   \n",
       "2   1.0               1.0      1.0                       1.0   \n",
       "3   1.0               1.0      1.0                       1.0   \n",
       "4   1.0               1.0      1.0                       0.0   \n",
       "\n",
       "   pets_live_on_this_property  dog(s)  ...  self_check-in  sun_loungers  \\\n",
       "0                         1.0     1.0  ...            0.0           0.0   \n",
       "1                         0.0     0.0  ...            0.0           0.0   \n",
       "2                         0.0     0.0  ...            0.0           0.0   \n",
       "3                         0.0     0.0  ...            0.0           0.0   \n",
       "4                         1.0     1.0  ...            0.0           0.0   \n",
       "\n",
       "   electric_profiling_bed  hammock  smoke_detector  high_chair  \\\n",
       "0                     0.0      0.0             0.0         0.0   \n",
       "1                     0.0      0.0             0.0         0.0   \n",
       "2                     0.0      0.0             0.0         0.0   \n",
       "3                     0.0      0.0             0.0         0.0   \n",
       "4                     0.0      0.0             0.0         0.0   \n",
       "\n",
       "   ski-in/ski-out  pets_allowed  mobile_hoist  baby_bath  \n",
       "0             0.0           0.0           0.0        0.0  \n",
       "1             0.0           0.0           0.0        0.0  \n",
       "2             0.0           0.0           0.0        0.0  \n",
       "3             0.0           0.0           0.0        0.0  \n",
       "4             0.0           0.0           0.0        0.0  \n",
       "\n",
       "[5 rows x 263 columns]"
      ],
      "text/html": "<div>\n<style scoped>\n    .dataframe tbody tr th:only-of-type {\n        vertical-align: middle;\n    }\n\n    .dataframe tbody tr th {\n        vertical-align: top;\n    }\n\n    .dataframe thead th {\n        text-align: right;\n    }\n</style>\n<table border=\"1\" class=\"dataframe\">\n  <thead>\n    <tr style=\"text-align: right;\">\n      <th></th>\n      <th>id</th>\n      <th>amenities</th>\n      <th>tv</th>\n      <th>internet</th>\n      <th>wifi</th>\n      <th>air_conditioning</th>\n      <th>kitchen</th>\n      <th>free_parking_on_premises</th>\n      <th>pets_live_on_this_property</th>\n      <th>dog(s)</th>\n      <th>...</th>\n      <th>self_check-in</th>\n      <th>sun_loungers</th>\n      <th>electric_profiling_bed</th>\n      <th>hammock</th>\n      <th>smoke_detector</th>\n      <th>high_chair</th>\n      <th>ski-in/ski-out</th>\n      <th>pets_allowed</th>\n      <th>mobile_hoist</th>\n      <th>baby_bath</th>\n    </tr>\n  </thead>\n  <tbody>\n    <tr>\n      <th>0</th>\n      <td>6422</td>\n      <td>{TV,Internet,Wifi,\"Air conditioning\",Kitchen,\"...</td>\n      <td>1.0</td>\n      <td>1.0</td>\n      <td>1.0</td>\n      <td>1.0</td>\n      <td>1.0</td>\n      <td>1.0</td>\n      <td>1.0</td>\n      <td>1.0</td>\n      <td>...</td>\n      <td>0.0</td>\n      <td>0.0</td>\n      <td>0.0</td>\n      <td>0.0</td>\n      <td>0.0</td>\n      <td>0.0</td>\n      <td>0.0</td>\n      <td>0.0</td>\n      <td>0.0</td>\n      <td>0.0</td>\n    </tr>\n    <tr>\n      <th>1</th>\n      <td>20847</td>\n      <td>{TV,\"Cable TV\",Wifi,\"Air conditioning\",Kitchen...</td>\n      <td>1.0</td>\n      <td>0.0</td>\n      <td>1.0</td>\n      <td>1.0</td>\n      <td>1.0</td>\n      <td>1.0</td>\n      <td>0.0</td>\n      <td>0.0</td>\n      <td>...</td>\n      <td>0.0</td>\n      <td>0.0</td>\n      <td>0.0</td>\n      <td>0.0</td>\n      <td>0.0</td>\n      <td>0.0</td>\n      <td>0.0</td>\n      <td>0.0</td>\n      <td>0.0</td>\n      <td>0.0</td>\n    </tr>\n    <tr>\n      <th>2</th>\n      <td>25341</td>\n      <td>{TV,\"Cable TV\",Wifi,\"Air conditioning\",Kitchen...</td>\n      <td>1.0</td>\n      <td>0.0</td>\n      <td>1.0</td>\n      <td>1.0</td>\n      <td>1.0</td>\n      <td>1.0</td>\n      <td>0.0</td>\n      <td>0.0</td>\n      <td>...</td>\n      <td>0.0</td>\n      <td>0.0</td>\n      <td>0.0</td>\n      <td>0.0</td>\n      <td>0.0</td>\n      <td>0.0</td>\n      <td>0.0</td>\n      <td>0.0</td>\n      <td>0.0</td>\n      <td>0.0</td>\n    </tr>\n    <tr>\n      <th>3</th>\n      <td>25613</td>\n      <td>{TV,Internet,Wifi,\"Air conditioning\",Kitchen,\"...</td>\n      <td>1.0</td>\n      <td>1.0</td>\n      <td>1.0</td>\n      <td>1.0</td>\n      <td>1.0</td>\n      <td>1.0</td>\n      <td>0.0</td>\n      <td>0.0</td>\n      <td>...</td>\n      <td>0.0</td>\n      <td>0.0</td>\n      <td>0.0</td>\n      <td>0.0</td>\n      <td>0.0</td>\n      <td>0.0</td>\n      <td>0.0</td>\n      <td>0.0</td>\n      <td>0.0</td>\n      <td>0.0</td>\n    </tr>\n    <tr>\n      <th>4</th>\n      <td>37306</td>\n      <td>{TV,Wifi,\"Air conditioning\",Kitchen,\"Pets live...</td>\n      <td>1.0</td>\n      <td>0.0</td>\n      <td>1.0</td>\n      <td>1.0</td>\n      <td>1.0</td>\n      <td>0.0</td>\n      <td>1.0</td>\n      <td>1.0</td>\n      <td>...</td>\n      <td>0.0</td>\n      <td>0.0</td>\n      <td>0.0</td>\n      <td>0.0</td>\n      <td>0.0</td>\n      <td>0.0</td>\n      <td>0.0</td>\n      <td>0.0</td>\n      <td>0.0</td>\n      <td>0.0</td>\n    </tr>\n  </tbody>\n</table>\n<p>5 rows × 263 columns</p>\n</div>"
     },
     "metadata": {},
     "execution_count": 5
    }
   ],
   "source": [
    "# Clean up the column names (all lowercase, remove spaces, remove quotes and brackets)\n",
    "amenities_df.columns = amenities_df.columns.str.strip().str.lower().str.replace(' ', '_').str.replace('\"', '').str.replace('{', '').str.replace('}', '')\n",
    "amenities_df.head()"
   ]
  },
  {
   "cell_type": "code",
   "execution_count": null,
   "metadata": {},
   "outputs": [],
   "source": []
  }
 ]
}